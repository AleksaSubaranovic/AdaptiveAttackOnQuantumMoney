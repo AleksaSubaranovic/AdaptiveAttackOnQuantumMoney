{
  "nbformat": 4,
  "nbformat_minor": 0,
  "metadata": {
    "colab": {
      "provenance": [],
      "collapsed_sections": [
        "mcJhd6s632eL"
      ],
      "include_colab_link": true
    },
    "kernelspec": {
      "name": "python3",
      "display_name": "Python 3"
    },
    "language_info": {
      "name": "python"
    }
  },
  "cells": [
    {
      "cell_type": "markdown",
      "metadata": {
        "id": "view-in-github",
        "colab_type": "text"
      },
      "source": [
        "<a href=\"https://colab.research.google.com/github/AleksaSubaranovic/AdaptiveAttackOnQuantumMoney/blob/main/AdaptiveAttackOnQuantumMoneyShowcase.ipynb\" target=\"_parent\"><img src=\"https://colab.research.google.com/assets/colab-badge.svg\" alt=\"Open In Colab\"/></a>"
      ]
    },
    {
      "cell_type": "markdown",
      "source": [
        "# Wiesner's quantum money scheme\n",
        "\n",
        "https://en.wikipedia.org/wiki/Quantum_money"
      ],
      "metadata": {
        "id": "fv77k5W9CDjL"
      }
    },
    {
      "cell_type": "markdown",
      "source": [
        "# Imports"
      ],
      "metadata": {
        "id": "mcJhd6s632eL"
      }
    },
    {
      "cell_type": "code",
      "source": [
        "!pip install qiskit\n",
        "!pip install qiskit-ibm-runtime\n",
        "!pip install qiskit[visualization]\n",
        "!pip install qiskit-ibmq-provider\n",
        "!pip install qiskit-aer"
      ],
      "metadata": {
        "id": "TVYl3DVDaZmV"
      },
      "execution_count": null,
      "outputs": []
    },
    {
      "cell_type": "code",
      "source": [
        "from qiskit import QuantumCircuit, Aer, transpile, assemble\n",
        "from qiskit_ibm_runtime import QiskitRuntimeService, Estimator, Options\n",
        "import math"
      ],
      "metadata": {
        "id": "B6zGHI6qd6h1"
      },
      "execution_count": null,
      "outputs": []
    },
    {
      "cell_type": "markdown",
      "source": [
        "# Code"
      ],
      "metadata": {
        "id": "TRzgMKQH4AQq"
      }
    },
    {
      "cell_type": "markdown",
      "source": [
        "Generate Quantum States used in Wiesner's quantum money"
      ],
      "metadata": {
        "id": "bl5zCmYMDycU"
      }
    },
    {
      "cell_type": "code",
      "source": [
        "# def make_zero(circuit, ind):\n",
        "#  do_nothing\n",
        "\n",
        "def make_one(circuit, ind):\n",
        "  circuit.x(ind)\n",
        "def make_plus(circuit, ind):\n",
        "  circuit.h(ind)\n",
        "def make_minus(circuit, ind):\n",
        "  circuit.h(ind)\n",
        "  circuit.z(ind)"
      ],
      "metadata": {
        "id": "_ZUdaF1UDQir"
      },
      "execution_count": null,
      "outputs": []
    },
    {
      "cell_type": "markdown",
      "source": [
        "Quantum Random Number Generator.\n",
        "- Serial Number will be unique 4 digit number\n",
        "- Qubit State will be one of 4 states {0,1,+,-} and saved in memory as 2 bits"
      ],
      "metadata": {
        "id": "qT97-IcqE6rs"
      }
    },
    {
      "cell_type": "code",
      "source": [
        "class QuantumNumberGenerator:\n",
        "    def __init__(self, num_bits=1):\n",
        "        self.num_bits = num_bits\n",
        "        self.quantum_circuit = QuantumCircuit(num_bits, num_bits)\n",
        "\n",
        "    def generate_quantum_number(self):\n",
        "        # Apply Hadamard gates to create superposition\n",
        "        for qubit in range(self.num_bits):\n",
        "            self.quantum_circuit.h(qubit)\n",
        "\n",
        "        # Measure qubits to collapse superposition\n",
        "        self.quantum_circuit.measure(range(self.num_bits), range(self.num_bits))\n",
        "\n",
        "        # Simulate quantum circuit\n",
        "        simulator = Aer.get_backend('qasm_simulator')\n",
        "        transpiled_circuit = transpile(self.quantum_circuit, simulator)\n",
        "        qobj = assemble(transpiled_circuit)\n",
        "        result = simulator.run(qobj).result()\n",
        "\n",
        "        # Extract measurement result as an integer\n",
        "        counts = result.get_counts()\n",
        "        quantum_number = int(list(counts.keys())[0], 2)\n",
        "\n",
        "        return quantum_number\n",
        "\n",
        "def Generate4DigitNumber():\n",
        "  q = QuantumNumberGenerator(14)\n",
        "  res = q.generate_quantum_number() % 10000\n",
        "  return res\n",
        "\n",
        "# 2 bits\n",
        "def GenerateQubitValue():\n",
        "  q = QuantumNumberGenerator(2)\n",
        "  res = q.generate_quantum_number()\n",
        "  return res"
      ],
      "metadata": {
        "id": "pHBOw7UUfU_l"
      },
      "execution_count": null,
      "outputs": []
    },
    {
      "cell_type": "markdown",
      "source": [
        "Verify Functions"
      ],
      "metadata": {
        "id": "wQT0FRRgFdt2"
      }
    },
    {
      "cell_type": "code",
      "source": [
        "# does not check for same base\n",
        "def Verify50(basis_bit, bit0, bit1):\n",
        "  circuit = QuantumCircuit(1)\n",
        "\n",
        "  if bit0 and bit1:\n",
        "    make_minus(circuit, 0)\n",
        "  elif bit0:\n",
        "    make_plus(circuit, 0)\n",
        "  elif bit1:\n",
        "    make_one(circuit, 0)\n",
        "\n",
        "  # for measuring\n",
        "  if basis_bit:\n",
        "    circuit.h(0)\n",
        "\n",
        "  circuit.measure_all()\n",
        "  simulator = Aer.get_backend('qasm_simulator')\n",
        "  result = simulator.run(circuit).result()\n",
        "  return int(result.get_counts().most_frequent())\n",
        "\n",
        "# checks for base\n",
        "def Verify100(basis_bit, expected_result, bit0, bit1):\n",
        "  if basis_bit == bit0:\n",
        "    ver = Verify50(basis_bit, bit0, bit1)\n",
        "    return ver == expected_result\n",
        "  else:\n",
        "    return False\n",
        "\n",
        "def ToBits(number):\n",
        "  if number == 0:\n",
        "    return 0, 0\n",
        "  elif number == 1:\n",
        "    return 0, 1\n",
        "  elif number == 2:\n",
        "    return 1, 0\n",
        "  elif number == 3:\n",
        "    return 1, 1\n",
        "  return -1, -1"
      ],
      "metadata": {
        "id": "iRHdBm9AFNCs"
      },
      "execution_count": null,
      "outputs": []
    },
    {
      "cell_type": "markdown",
      "source": [
        "## Bank class"
      ],
      "metadata": {
        "id": "anS_KYXq4WHy"
      }
    },
    {
      "cell_type": "code",
      "source": [
        "class Bank:\n",
        "    def __init__(self, num_cubits):\n",
        "        self.quantum_money_database = dict()\n",
        "        self.num_cubits = num_cubits\n",
        "\n",
        "    # simple way to generate money\n",
        "    def create_quantum_money(self):\n",
        "      if len(self.quantum_money_database.keys()) >= 10000:\n",
        "        return -1, -1\n",
        "      s = Generate4DigitNumber()\n",
        "      while s in self.quantum_money_database.keys():\n",
        "        s = (s + 1) % 10000\n",
        "\n",
        "      res = []\n",
        "      for i in range(0, self.num_cubits):\n",
        "        cubit_value = GenerateQubitValue()\n",
        "        res.append(cubit_value)\n",
        "      self.quantum_money_database[s] = res\n",
        "      return s, res\n",
        "\n",
        "    def give_quantum_money(self, recipient):\n",
        "      s, q = self.create_quantum_money()\n",
        "      if s == -1:\n",
        "        return False\n",
        "      else:\n",
        "        recipient.money_arr.append((s, q))\n",
        "        return True\n",
        "\n",
        "    def verify_quantum_money(self, s, q):\n",
        "      if s in self.quantum_money_database.keys():\n",
        "        res = self.quantum_money_database[s]\n",
        "        for i in range(0, len(q)):\n",
        "          bit0, bit1 = ToBits(q[i]) # potentially forged qubit\n",
        "          bit2, bit3 = ToBits(res[i]) # correct qubit\n",
        "          # bit2 = base, bit3 = measured result, bit0, bit1 represent qubit that will be measured\n",
        "          if (Verify100(bit2, bit3, bit0, bit1) == False):\n",
        "            return False\n",
        "        return True\n",
        "      return False"
      ],
      "metadata": {
        "id": "Ssdn5kTqeZaV"
      },
      "execution_count": null,
      "outputs": []
    },
    {
      "cell_type": "markdown",
      "source": [
        "## User class"
      ],
      "metadata": {
        "id": "d0fAOvBN4vhi"
      }
    },
    {
      "cell_type": "code",
      "source": [
        "class User:\n",
        "  def __init__(self):\n",
        "    self.money_arr = []\n",
        "\n",
        "  def request_money(self, emitent):\n",
        "    return emitent.give_quantum_money(self)\n",
        "\n",
        "  def verify_user_money(self, emitent, money_secret_number):\n",
        "    for (s, q) in self.money_arr:\n",
        "      if s == money_secret_number:\n",
        "        return emitent.verify_quantum_money(s, q)"
      ],
      "metadata": {
        "id": "GplCMBH6LiQM"
      },
      "execution_count": null,
      "outputs": []
    },
    {
      "cell_type": "markdown",
      "source": [
        "Example of workflow"
      ],
      "metadata": {
        "id": "BKeQjeBVH8kE"
      }
    },
    {
      "cell_type": "code",
      "source": [
        "bank = Bank(1)\n",
        "user1 = User()\n",
        "user2 = User()\n",
        "\n",
        "bank.give_quantum_money(user1)\n",
        "bank.give_quantum_money(user2)\n",
        "\n",
        "print(f\"Verify User 1 {user1.verify_user_money(bank, user1.money_arr[0][0])}\\n\")\n",
        "secret_key, qubits = user2.money_arr[0]\n",
        "\n",
        "print(\"Try random guess\")\n",
        "for i in range(0, 4):\n",
        "  print(f\"-{i + 1}-\")\n",
        "  print(bank.verify_quantum_money(secret_key, [i]))\n",
        "\n",
        "print(\"Show Bank Data\")\n",
        "print(bank.quantum_money_database)"
      ],
      "metadata": {
        "colab": {
          "base_uri": "https://localhost:8080/"
        },
        "id": "mWC7B7uM2K4a",
        "outputId": "cd3451a7-94c3-42a9-e058-9a6a423a1361"
      },
      "execution_count": null,
      "outputs": [
        {
          "output_type": "stream",
          "name": "stdout",
          "text": [
            "Verify User 1 True\n",
            "\n",
            "Try random guess\n",
            "-1-\n",
            "False\n",
            "-2-\n",
            "False\n",
            "-3-\n",
            "False\n",
            "-4-\n",
            "True\n",
            "Show Bank Data\n",
            "{3953: [3], 3414: [3]}\n"
          ]
        },
        {
          "output_type": "stream",
          "name": "stderr",
          "text": [
            "<ipython-input-5-06065d24e4f7>:18: DeprecationWarning: Using a qobj for run() is deprecated as of qiskit-aer 0.9.0 and will be removed no sooner than 3 months from that release date. Transpiled circuits should now be passed directly using `backend.run(circuits, **run_options).\n",
            "  result = simulator.run(qobj).result()\n"
          ]
        }
      ]
    },
    {
      "cell_type": "markdown",
      "source": [
        "## Forge Money using Bomb Testing Attack (Adaptive attack)\n",
        "- https://arxiv.org/abs/1404.1507\n",
        "- Change is made to angle delta = PI / (2 * N) => PI / (N)\n"
      ],
      "metadata": {
        "id": "iVyfhZu-6Jba"
      }
    },
    {
      "cell_type": "code",
      "source": [
        "# Example of N = 4\n",
        "def drawBombTest():\n",
        "  angle = math.pi / (4 * 1)\n",
        "  circuit = QuantumCircuit(4 + 1)\n",
        "  counter = angle\n",
        "  for i in range(0, 4):\n",
        "    ind = i + 1\n",
        "    circuit.rx(counter, 0)\n",
        "\n",
        "    circuit.cx(0, ind)\n",
        "\n",
        "  circuit.measure_all()\n",
        "  print(circuit)\n",
        "\n",
        "drawBombTest()"
      ],
      "metadata": {
        "colab": {
          "base_uri": "https://localhost:8080/"
        },
        "id": "rTyPTAZSyoaj",
        "outputId": "a888c1bc-6a97-4f0e-d087-a768b08d05e8"
      },
      "execution_count": null,
      "outputs": [
        {
          "output_type": "stream",
          "name": "stdout",
          "text": [
            "        ┌─────────┐     ┌─────────┐     ┌─────────┐     ┌─────────┐      ░ ┌─┐»\n",
            "   q_0: ┤ Rx(π/4) ├──■──┤ Rx(π/4) ├──■──┤ Rx(π/4) ├──■──┤ Rx(π/4) ├──■───░─┤M├»\n",
            "        └─────────┘┌─┴─┐└─────────┘  │  └─────────┘  │  └─────────┘  │   ░ └╥┘»\n",
            "   q_1: ───────────┤ X ├─────────────┼───────────────┼───────────────┼───░──╫─»\n",
            "                   └───┘           ┌─┴─┐             │               │   ░  ║ »\n",
            "   q_2: ───────────────────────────┤ X ├─────────────┼───────────────┼───░──╫─»\n",
            "                                   └───┘           ┌─┴─┐             │   ░  ║ »\n",
            "   q_3: ───────────────────────────────────────────┤ X ├─────────────┼───░──╫─»\n",
            "                                                   └───┘           ┌─┴─┐ ░  ║ »\n",
            "   q_4: ───────────────────────────────────────────────────────────┤ X ├─░──╫─»\n",
            "                                                                   └───┘ ░  ║ »\n",
            "meas: 5/════════════════════════════════════════════════════════════════════╩═»\n",
            "                                                                            0 »\n",
            "«                    \n",
            "«   q_0: ────────────\n",
            "«        ┌─┐         \n",
            "«   q_1: ┤M├─────────\n",
            "«        └╥┘┌─┐      \n",
            "«   q_2: ─╫─┤M├──────\n",
            "«         ║ └╥┘┌─┐   \n",
            "«   q_3: ─╫──╫─┤M├───\n",
            "«         ║  ║ └╥┘┌─┐\n",
            "«   q_4: ─╫──╫──╫─┤M├\n",
            "«         ║  ║  ║ └╥┘\n",
            "«meas: 5/═╩══╩══╩══╩═\n",
            "«         1  2  3  4 \n"
          ]
        }
      ]
    },
    {
      "cell_type": "markdown",
      "source": [
        "- Verification is skipped here"
      ],
      "metadata": {
        "id": "D-XJAga58x_D"
      }
    },
    {
      "cell_type": "code",
      "source": [
        "from qiskit.visualization import circuit_drawer\n",
        "import math\n",
        "from qiskit.extensions import UnitaryGate\n",
        "import numpy as np\n",
        "\n",
        "ZERO = 0\n",
        "ONE = 1\n",
        "PLUS = 2\n",
        "MINUS = 3\n",
        "\n",
        "\n",
        "c_minus_x = np.array([         [1, 0, 0, 0],\n",
        "                               [0, 1, 0, 0],\n",
        "                               [0, 0, 0, -1],\n",
        "                               [0, 0, -1, 0]])\n",
        "\n",
        "c_minus_x_gate = UnitaryGate(c_minus_x, label='C-X')\n",
        "\n",
        "#\n",
        "# Bomb Testing Attack\n",
        "#\n",
        "\n",
        "def BT_PLUS(q, N):\n",
        "  angle = math.pi / (N)\n",
        "  circuit = QuantumCircuit(1 + N, 1)\n",
        "  for i in range(0, N):\n",
        "    ind = i + 1\n",
        "    circuit.rx(angle, 0)\n",
        "\n",
        "    if q == 1:\n",
        "      make_one(circuit, ind)\n",
        "    elif q == 2:\n",
        "      make_plus(circuit, ind)\n",
        "    elif q== 3:\n",
        "      make_minus(circuit, ind)\n",
        "\n",
        "    circuit.cx(0, ind)\n",
        "    #\n",
        "    # Verify Step => shoul always pass for lagre N\n",
        "    #\n",
        "\n",
        "  circuit.measure(0, 0)\n",
        "  simulator = Aer.get_backend('qasm_simulator')\n",
        "  result = simulator.run(circuit).result()\n",
        "  return result.get_counts().most_frequent()\n",
        "\n",
        "def BT_MINUS(q, N):\n",
        "  angle = math.pi / (N)\n",
        "  circuit = QuantumCircuit(1 + N, 1)\n",
        "  for i in range(0, N):\n",
        "    ind = i + 1\n",
        "    circuit.rx(angle, 0)\n",
        "\n",
        "    if q == 1:\n",
        "      make_one(circuit, ind)\n",
        "    elif q == 2:\n",
        "      make_plus(circuit, ind)\n",
        "    elif q== 3:\n",
        "      make_minus(circuit, ind)\n",
        "\n",
        "    circuit.append(c_minus_x_gate, [ind, 0])\n",
        "    #\n",
        "    # Verify Step => shoul always pass for lagre N\n",
        "    #\n",
        "\n",
        "  circuit.measure(0, 0)\n",
        "  simulator = Aer.get_backend('qasm_simulator')\n",
        "  result = simulator.run(circuit).result()\n",
        "  #print(circuit)\n",
        "  return result.get_counts().most_frequent()\n",
        "\n",
        "def BT_ZERO_ONE(q):\n",
        "  circuit = QuantumCircuit(1, 1)\n",
        "  if q == 1:\n",
        "      circuit.x(0)\n",
        "  circuit.measure(0, 0)\n",
        "  simulator = Aer.get_backend('qasm_simulator')\n",
        "  result = simulator.run(circuit).result()\n",
        "  return result.get_counts().most_frequent()\n",
        "\n",
        "def BT_FULL(q, N):\n",
        "  if BT_PLUS(q, N) == \"1\":\n",
        "    return \"+\"\n",
        "  elif BT_MINUS(q, N) == \"1\":\n",
        "    return \"-\"\n",
        "  else:\n",
        "    return BT_ZERO_ONE(q)\n",
        "\n",
        "qubit1 = PLUS\n",
        "plus_odds = BT_PLUS(qubit1, 20)\n",
        "print(f\"Results for plus {plus_odds}\")\n",
        "print(\"----\")\n",
        "\n",
        "qubit1 = MINUS\n",
        "plus_odds = BT_PLUS(qubit1, 20)\n",
        "print(f\"Results for minus being plus {plus_odds}\")\n",
        "minus_odds = BT_MINUS(qubit1, 20)\n",
        "print(f\"Results for minus {minus_odds}\")\n",
        "print(\"----\")\n",
        "\n",
        "qubit1 = ZERO\n",
        "print(f\"Qubit ZERO is => {BT_FULL(qubit1, 20)}\")\n",
        "\n",
        "qubit2 = ONE\n",
        "print(f\"Qubit ONE => {BT_FULL(qubit2, 20)}\")\n",
        "\n",
        "qubit3 = PLUS\n",
        "print(f\"Qubit PLUS => {BT_FULL(qubit3, 20)}\")\n",
        "\n",
        "qubit4 = MINUS\n",
        "print(f\"Qubit MINUS => {BT_FULL(qubit4, 20)}\")"
      ],
      "metadata": {
        "colab": {
          "base_uri": "https://localhost:8080/"
        },
        "id": "ldsd1wO7PhBF",
        "outputId": "7811881d-d449-41b6-e232-d4a89d6162eb"
      },
      "execution_count": null,
      "outputs": [
        {
          "output_type": "stream",
          "name": "stdout",
          "text": [
            "Results for plus 1\n",
            "----\n",
            "Results for minus being plus 0\n",
            "Results for minus 1\n",
            "----\n",
            "Qubit ZERO is => 0\n",
            "Qubit ONE => 1\n",
            "Qubit PLUS => +\n",
            "Qubit MINUS => -\n"
          ]
        }
      ]
    }
  ]
}